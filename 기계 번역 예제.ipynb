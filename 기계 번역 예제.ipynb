{
 "cells": [
  {
   "cell_type": "markdown",
   "id": "c91bd239",
   "metadata": {},
   "source": [
    "## 기계변역 예제\n",
    "- 순환층을 사용하는 시퀀스 모델 제작 ~ 완전한 트랜스포머 아키텍처 구현\n",
    "### 데이터 셋 로딩"
   ]
  },
  {
   "cell_type": "code",
   "execution_count": null,
   "id": "a7c0e4c6",
   "metadata": {},
   "outputs": [],
   "source": [
    "## 데이터 셋 로딩\n",
    "# https://www.manythings.org/anki의 영어 - 프랑스 번역 셋 이용\n",
    "!wget http://storage.googleeapis.com/download.tensorflow.org/data/fra-eng.zip\n",
    "!unzip -q fra-eng.zip"
   ]
  },
  {
   "cell_type": "code",
   "execution_count": null,
   "id": "d06d3cf7",
   "metadata": {},
   "outputs": [],
   "source": [
    "# 데이터 살펴보기\n",
    "text = 'fra-eng/fra.txt'\n",
    "with open(text) as f:\n",
    "    lines = f.read().split('\\n')[:-1]\n",
    "text_pairs = []\n",
    "for line in lines: # 라인별 처리\n",
    "    eng, fra = line.split('\\t')\n",
    "    fra = '[start]' + fra + '[end]'\n",
    "    text_pairs.append((eng, fra))\n",
    "    \n",
    "# 랜덤 문장보기    \n",
    "import random\n",
    "print(random.choice(text_pairs))"
   ]
  },
  {
   "cell_type": "markdown",
   "id": "6abb5f49",
   "metadata": {},
   "source": [
    "### 데이터 세트 분리\n",
    "- 훈련, 검증, 테스트"
   ]
  },
  {
   "cell_type": "code",
   "execution_count": null,
   "id": "0cd82647",
   "metadata": {},
   "outputs": [],
   "source": [
    "# 셔플후 세트 분리\n",
    "random.shuffle(text_pairs)\n",
    "num_val_sam = int(0.15 * len(text_pairs))\n",
    "num_train_sam = len(text_pairs) - 2 * num_val_sam\n",
    "train_pairs = text_pairs[: num_train_sam]\n",
    "val_pairs = text_pairs[num_train_sam : num_train_sam + num_val_sam]\n",
    "test_pairs = text_pairs[num_train_sam + num_val_sam : ]"
   ]
  },
  {
   "cell_type": "markdown",
   "id": "171a7cf2",
   "metadata": {},
   "source": [
    "### TV층 (TextVectorization)준비\n",
    "- 영어층, 프랑스어층\n",
    "- 문자열 전처리 방식 커스텀 (fra_standard)"
   ]
  },
  {
   "cell_type": "code",
   "execution_count": null,
   "id": "7da40e6c",
   "metadata": {},
   "outputs": [],
   "source": [
    "# 라이브러리 \n",
    "import tensorflow as tf\n",
    "import string\n",
    "import re\n",
    "\n",
    "# 프랑스어 TV층에 적용하기 위해 특수 문자들 삭제\n",
    "str_chars = string.punctuation \n",
    "str_chars = str_chars.replace('[', '')\n",
    "str_chars = str_chars.replace(']', '')\n",
    "# 문자열 표준화 함수 정의\n",
    "def fra_standard(input_string):\n",
    "    lowercase = tf.strings.lower(input_string)\n",
    "    return tf.strings.regex_replace(\n",
    "    lowercase, f'[{re.escape(str_chars)}]', '')\n",
    "\n",
    "# 범위제한을 위한 작업(예시라서 제한함)\n",
    "vocab_size = 15000,\n",
    "sequence_length = 20\n",
    "\n",
    "#영어층\n",
    "source_vec = layers.TextVectorization(\n",
    "    max_tokens = vocab_size,\n",
    "    output_mode = 'int',\n",
    "    output_sequence_length = sequence_length,\n",
    ")\n",
    "# french layer\n",
    "target_vec = layers.TextVectorization(\n",
    "    max_tokens = vocab_size,\n",
    "    output_mode = 'int',\n",
    "    output_sequence_length = sequence_length + 1,\n",
    "    standardize = fra_standard\n",
    ")\n",
    "\n",
    "# 훈련후 어휘 사전 만들기\n",
    "train_eng_texts = [pair[0] for pair in train_pairs]\n",
    "train_fra_texts = [pair[1] for pair in train_pairs]\n",
    "source_vec.adapt(train_eng_texts)\n",
    "target_vec.adapt(train_fra_texts)"
   ]
  },
  {
   "cell_type": "markdown",
   "id": "2fd8e956",
   "metadata": {},
   "source": [
    "### 번역작업을 위한 데이터셋 준비"
   ]
  },
  {
   "cell_type": "code",
   "execution_count": null,
   "id": "bdd25866",
   "metadata": {},
   "outputs": [],
   "source": [
    "batch_size = 64\n",
    "\n",
    "def formet_dataset(eng, fra):\n",
    "    eng = source_vec(eng)\n",
    "    fra = target_vec(fra)\n",
    "    return ({ # 이 dict가 inputs\n",
    "        'english': eng,\n",
    "        'french' : fra[:,:-1],\n",
    "    }, fra[:, 1:]) # fra가 target\n",
    "\n",
    "def make_dataset(pairs):\n",
    "    eng_texts, fra_texts = zip(*pairs)\n",
    "    eng_texts = list(eng_texts)\n",
    "    fra_texts = list(fra_texts)\n",
    "    dataset = tf.data.Dataset.from_tensor_slices((eng_texts, fra_texts))\n",
    "    dataset = dataset.batch(batch_size)\n",
    "    dataset = dataset.map(format_dataset, num_parallel_calls = 4)\n",
    "    return dataset.shuffle(2048).prefetch(16).cache() # 전처리 속도리를 높이기 위한 캐싱\n",
    "\n",
    "train_ds = make_dataset(train_pairs)\n",
    "val_ds = make_dataset(val_pairs)"
   ]
  },
  {
   "cell_type": "code",
   "execution_count": null,
   "id": "c8cbf0cf",
   "metadata": {},
   "outputs": [],
   "source": [
    "# 데이터 셋 크기 확인\n",
    "for inputs, targets in train_ds.take(1):\n",
    "    print(f'inputs['eng'].shape : {inputs['eng'].shape}')\n",
    "    print(f'inputs['fra'].shape : {inputs['fra'].shape}')\n",
    "    print(f'targets.shape : {targets.shape}')"
   ]
  },
  {
   "cell_type": "markdown",
   "id": "b2a74f7e",
   "metadata": {},
   "source": [
    "### RNN 을 사용한 StoS모델\n",
    "- 시퀀스_투_시퀀스 모델"
   ]
  },
  {
   "cell_type": "code",
   "execution_count": null,
   "id": "fb0a8402",
   "metadata": {},
   "outputs": [],
   "source": []
  },
  {
   "cell_type": "code",
   "execution_count": null,
   "id": "a083592a",
   "metadata": {},
   "outputs": [],
   "source": []
  },
  {
   "cell_type": "code",
   "execution_count": null,
   "id": "c72daf4e",
   "metadata": {},
   "outputs": [],
   "source": []
  },
  {
   "cell_type": "code",
   "execution_count": null,
   "id": "f77a4242",
   "metadata": {},
   "outputs": [],
   "source": []
  },
  {
   "cell_type": "code",
   "execution_count": null,
   "id": "1ca2544b",
   "metadata": {},
   "outputs": [],
   "source": []
  }
 ],
 "metadata": {
  "hide_input": false,
  "kernelspec": {
   "display_name": "Python 3 (ipykernel)",
   "language": "python",
   "name": "python3"
  },
  "language_info": {
   "codemirror_mode": {
    "name": "ipython",
    "version": 3
   },
   "file_extension": ".py",
   "mimetype": "text/x-python",
   "name": "python",
   "nbconvert_exporter": "python",
   "pygments_lexer": "ipython3",
   "version": "3.9.7"
  },
  "toc": {
   "base_numbering": 1,
   "nav_menu": {},
   "number_sections": true,
   "sideBar": true,
   "skip_h1_title": false,
   "title_cell": "Table of Contents",
   "title_sidebar": "Contents",
   "toc_cell": false,
   "toc_position": {},
   "toc_section_display": true,
   "toc_window_display": false
  }
 },
 "nbformat": 4,
 "nbformat_minor": 5
}
